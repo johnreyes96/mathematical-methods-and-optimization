{
  "nbformat": 4,
  "nbformat_minor": 0,
  "metadata": {
    "colab": {
      "name": "Untitled2.ipynb",
      "provenance": [],
      "authorship_tag": "ABX9TyOw7YhX5EsflKumdqIXXe8v",
      "include_colab_link": true
    },
    "kernelspec": {
      "name": "python3",
      "display_name": "Python 3"
    },
    "language_info": {
      "name": "python"
    }
  },
  "cells": [
    {
      "cell_type": "markdown",
      "metadata": {
        "id": "view-in-github",
        "colab_type": "text"
      },
      "source": [
        "<a href=\"https://colab.research.google.com/github/johnreyes96/mathmeth-mathoptimization-operesearch/blob/master/src/main/python/operationsresearch/maximumflowproblem/MaximumFlowProblem.ipynb\" target=\"_parent\"><img src=\"https://colab.research.google.com/assets/colab-badge.svg\" alt=\"Open In Colab\"/></a>"
      ]
    },
    {
      "cell_type": "code",
      "execution_count": 1,
      "metadata": {
        "id": "LLhj6jo_kbDA"
      },
      "outputs": [],
      "source": [
        "import matplotlib.pyplot as plt\n",
        "import networkx as nx"
      ]
    },
    {
      "cell_type": "code",
      "source": [
        "def draw(g):\n",
        "  pos = nx.spring_layout(g)\n",
        "  nx.draw(g, pos, \\\n",
        "          arrows=True, \\\n",
        "          with_labels=True, \\\n",
        "          nodelist=g.nodes(), \\\n",
        "          style='solid', \\\n",
        "          edge_color='k', \\\n",
        "          width=1.5, \\\n",
        "          node_color='y', \\\n",
        "          alpha=0.85)\n",
        "  plt.show()"
      ],
      "metadata": {
        "id": "KOHKAusclelh"
      },
      "execution_count": 2,
      "outputs": []
    },
    {
      "cell_type": "code",
      "source": [
        "G = nx.DiGraph()"
      ],
      "metadata": {
        "id": "4OPWlQuolkqn"
      },
      "execution_count": 3,
      "outputs": []
    },
    {
      "cell_type": "code",
      "source": [
        "G.add_edge(1, 2, capacity = 10)\n",
        "G.add_edge(1, 4, capacity = 15)\n",
        "G.add_edge(1, 5, capacity = 12)\n",
        "G.add_edge(2, 3, capacity = 9)\n",
        "G.add_edge(2, 4, capacity = 2)\n",
        "G.add_edge(3, 8, capacity = 7)\n",
        "G.add_edge(4, 3, capacity = 5)\n",
        "G.add_edge(4, 6, capacity = 8)\n",
        "G.add_edge(5, 6, capacity = 5)\n",
        "G.add_edge(5, 7, capacity = 5)\n",
        "G.add_edge(6, 8, capacity = 10)\n",
        "G.add_edge(7, 8, capacity = 8)"
      ],
      "metadata": {
        "id": "rBYDdxe0ltNg"
      },
      "execution_count": 8,
      "outputs": []
    },
    {
      "cell_type": "code",
      "source": [
        "draw(G)"
      ],
      "metadata": {
        "colab": {
          "base_uri": "https://localhost:8080/",
          "height": 319
        },
        "id": "QaHMn942mo3X",
        "outputId": "1a5322ed-d796-4375-b09b-ccd630dcd2a1"
      },
      "execution_count": 9,
      "outputs": [
        {
          "output_type": "display_data",
          "data": {
            "text/plain": [
              "<Figure size 432x288 with 1 Axes>"
            ],
            "image/png": "[encoded data removed]"
          },
          "metadata": {}
        }
      ]
    },
    {
      "cell_type": "code",
      "source": [
        "fmax, residual = nx.maximum_flow(G, 1, 8)"
      ],
      "metadata": {
        "id": "i-g8kx8vm19g"
      },
      "execution_count": 10,
      "outputs": []
    },
    {
      "cell_type": "code",
      "source": [
        "fmax"
      ],
      "metadata": {
        "colab": {
          "base_uri": "https://localhost:8080/"
        },
        "id": "HsRucVCbnPBQ",
        "outputId": "98094e36-ded3-49a8-e59b-453f580c0413"
      },
      "execution_count": 11,
      "outputs": [
        {
          "output_type": "execute_result",
          "data": {
            "text/plain": [
              "22"
            ]
          },
          "metadata": {},
          "execution_count": 11
        }
      ]
    },
    {
      "cell_type": "code",
      "source": [
        "residual"
      ],
      "metadata": {
        "colab": {
          "base_uri": "https://localhost:8080/"
        },
        "id": "Ub3xPwsgnSYB",
        "outputId": "7416329e-da52-4608-867b-61bb7c7be905"
      },
      "execution_count": 12,
      "outputs": [
        {
          "output_type": "execute_result",
          "data": {
            "text/plain": [
              "{1: {2: 2, 4: 10, 5: 10},\n",
              " 2: {3: 2, 4: 0},\n",
              " 3: {8: 7},\n",
              " 4: {3: 5, 6: 5},\n",
              " 5: {6: 5, 7: 5},\n",
              " 6: {8: 10},\n",
              " 7: {8: 5},\n",
              " 8: {}}"
            ]
          },
          "metadata": {},
          "execution_count": 12
        }
      ]
    }
  ]
}